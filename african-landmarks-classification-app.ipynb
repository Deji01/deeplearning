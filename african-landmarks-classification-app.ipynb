{
 "cells": [
  {
   "cell_type": "code",
   "execution_count": 1,
   "id": "4478407c",
   "metadata": {
    "execution": {
     "iopub.execute_input": "2022-05-27T16:57:16.099772Z",
     "iopub.status.busy": "2022-05-27T16:57:16.098565Z",
     "iopub.status.idle": "2022-05-27T16:57:38.435534Z",
     "shell.execute_reply": "2022-05-27T16:57:38.434195Z"
    },
    "papermill": {
     "duration": 22.352704,
     "end_time": "2022-05-27T16:57:38.438705",
     "exception": false,
     "start_time": "2022-05-27T16:57:16.086001",
     "status": "completed"
    },
    "tags": []
   },
   "outputs": [
    {
     "name": "stdout",
     "output_type": "stream",
     "text": [
      "\u001b[33mWARNING: Running pip as the 'root' user can result in broken permissions and conflicting behaviour with the system package manager. It is recommended to use a virtual environment instead: https://pip.pypa.io/warnings/venv\u001b[0m\u001b[33m\r\n",
      "\u001b[0m"
     ]
    }
   ],
   "source": [
    "!pip install -q gradio"
   ]
  },
  {
   "cell_type": "code",
   "execution_count": 2,
   "id": "27008f1a",
   "metadata": {
    "execution": {
     "iopub.execute_input": "2022-05-27T16:57:38.452932Z",
     "iopub.status.busy": "2022-05-27T16:57:38.452416Z",
     "iopub.status.idle": "2022-05-27T16:57:48.388628Z",
     "shell.execute_reply": "2022-05-27T16:57:48.387544Z"
    },
    "papermill": {
     "duration": 9.946582,
     "end_time": "2022-05-27T16:57:48.391257",
     "exception": false,
     "start_time": "2022-05-27T16:57:38.444675",
     "status": "completed"
    },
    "tags": []
   },
   "outputs": [],
   "source": [
    "import os\n",
    "import numpy as np\n",
    "import gradio as gr\n",
    "import pandas as pd\n",
    "import tensorflow as tf\n",
    "import PIL.Image as Image\n",
    "import tensorflow_hub as hub\n",
    "import matplotlib.pyplot as plt"
   ]
  },
  {
   "cell_type": "code",
   "execution_count": 3,
   "id": "dfa76c02",
   "metadata": {
    "execution": {
     "iopub.execute_input": "2022-05-27T16:57:48.406042Z",
     "iopub.status.busy": "2022-05-27T16:57:48.404791Z",
     "iopub.status.idle": "2022-05-27T16:57:48.410045Z",
     "shell.execute_reply": "2022-05-27T16:57:48.409286Z"
    },
    "papermill": {
     "duration": 0.015364,
     "end_time": "2022-05-27T16:57:48.412451",
     "exception": false,
     "start_time": "2022-05-27T16:57:48.397087",
     "status": "completed"
    },
    "tags": []
   },
   "outputs": [],
   "source": [
    "TF_MODEL_URL = \"https://tfhub.dev/google/on_device_vision/classifier/landmarks_classifier_africa_V1/1\"\n",
    "LABEL_MAP_URL = \"https://www.gstatic.com/aihub/tfhub/labelmaps/landmarks_classifier_africa_V1_label_map.csv\"\n",
    "IMAGE_SHAPE = (321, 321)"
   ]
  },
  {
   "cell_type": "code",
   "execution_count": 4,
   "id": "ed384ccb",
   "metadata": {
    "execution": {
     "iopub.execute_input": "2022-05-27T16:57:48.426678Z",
     "iopub.status.busy": "2022-05-27T16:57:48.425883Z",
     "iopub.status.idle": "2022-05-27T16:57:51.959239Z",
     "shell.execute_reply": "2022-05-27T16:57:51.958178Z"
    },
    "papermill": {
     "duration": 3.543419,
     "end_time": "2022-05-27T16:57:51.961876",
     "exception": false,
     "start_time": "2022-05-27T16:57:48.418457",
     "status": "completed"
    },
    "tags": []
   },
   "outputs": [
    {
     "name": "stderr",
     "output_type": "stream",
     "text": [
      "2022-05-27 16:57:50.201684: I tensorflow/core/common_runtime/process_util.cc:146] Creating new thread pool with default inter op setting: 2. Tune using inter_op_parallelism_threads for best performance.\n",
      "2022-05-27 16:57:50.241583: I tensorflow/compiler/mlir/mlir_graph_optimization_pass.cc:185] None of the MLIR Optimization Passes are enabled (registered 2)\n"
     ]
    }
   ],
   "source": [
    "classifier = tf.keras.Sequential([hub.KerasLayer(\n",
    "                TF_MODEL_URL,\n",
    "                input_shape = (*IMAGE_SHAPE, 3 ),\n",
    "                output_key = \"predictions:logits\"\n",
    ")])"
   ]
  },
  {
   "cell_type": "code",
   "execution_count": 5,
   "id": "badf6ddb",
   "metadata": {
    "execution": {
     "iopub.execute_input": "2022-05-27T16:57:51.975703Z",
     "iopub.status.busy": "2022-05-27T16:57:51.975194Z",
     "iopub.status.idle": "2022-05-27T16:57:52.127525Z",
     "shell.execute_reply": "2022-05-27T16:57:52.126298Z"
    },
    "papermill": {
     "duration": 0.1628,
     "end_time": "2022-05-27T16:57:52.130552",
     "exception": false,
     "start_time": "2022-05-27T16:57:51.967752",
     "status": "completed"
    },
    "tags": []
   },
   "outputs": [],
   "source": [
    "df = pd.read_csv(LABEL_MAP_URL)"
   ]
  },
  {
   "cell_type": "code",
   "execution_count": 6,
   "id": "e26a6be7",
   "metadata": {
    "execution": {
     "iopub.execute_input": "2022-05-27T16:57:52.145321Z",
     "iopub.status.busy": "2022-05-27T16:57:52.144225Z",
     "iopub.status.idle": "2022-05-27T16:57:52.170277Z",
     "shell.execute_reply": "2022-05-27T16:57:52.168884Z"
    },
    "papermill": {
     "duration": 0.036553,
     "end_time": "2022-05-27T16:57:52.173012",
     "exception": false,
     "start_time": "2022-05-27T16:57:52.136459",
     "status": "completed"
    },
    "tags": []
   },
   "outputs": [
    {
     "data": {
      "text/html": [
       "<div>\n",
       "<style scoped>\n",
       "    .dataframe tbody tr th:only-of-type {\n",
       "        vertical-align: middle;\n",
       "    }\n",
       "\n",
       "    .dataframe tbody tr th {\n",
       "        vertical-align: top;\n",
       "    }\n",
       "\n",
       "    .dataframe thead th {\n",
       "        text-align: right;\n",
       "    }\n",
       "</style>\n",
       "<table border=\"1\" class=\"dataframe\">\n",
       "  <thead>\n",
       "    <tr style=\"text-align: right;\">\n",
       "      <th></th>\n",
       "      <th>id</th>\n",
       "      <th>name</th>\n",
       "    </tr>\n",
       "  </thead>\n",
       "  <tbody>\n",
       "    <tr>\n",
       "      <th>0</th>\n",
       "      <td>0</td>\n",
       "      <td>Auditorio de Tenerife Adán Martín</td>\n",
       "    </tr>\n",
       "    <tr>\n",
       "      <th>1</th>\n",
       "      <td>1</td>\n",
       "      <td>Acropolium of Carthage</td>\n",
       "    </tr>\n",
       "    <tr>\n",
       "      <th>2</th>\n",
       "      <td>2</td>\n",
       "      <td>Ilheu Mole</td>\n",
       "    </tr>\n",
       "    <tr>\n",
       "      <th>3</th>\n",
       "      <td>3</td>\n",
       "      <td>Erg Chebbi</td>\n",
       "    </tr>\n",
       "    <tr>\n",
       "      <th>4</th>\n",
       "      <td>4</td>\n",
       "      <td>Museum of Science and the Cosmos</td>\n",
       "    </tr>\n",
       "  </tbody>\n",
       "</table>\n",
       "</div>"
      ],
      "text/plain": [
       "   id                               name\n",
       "0   0  Auditorio de Tenerife Adán Martín\n",
       "1   1             Acropolium of Carthage\n",
       "2   2                         Ilheu Mole\n",
       "3   3                         Erg Chebbi\n",
       "4   4   Museum of Science and the Cosmos"
      ]
     },
     "execution_count": 6,
     "metadata": {},
     "output_type": "execute_result"
    }
   ],
   "source": [
    "df.head()"
   ]
  },
  {
   "cell_type": "code",
   "execution_count": 7,
   "id": "80dbbfea",
   "metadata": {
    "execution": {
     "iopub.execute_input": "2022-05-27T16:57:52.187238Z",
     "iopub.status.busy": "2022-05-27T16:57:52.186745Z",
     "iopub.status.idle": "2022-05-27T16:57:52.212605Z",
     "shell.execute_reply": "2022-05-27T16:57:52.211462Z"
    },
    "papermill": {
     "duration": 0.036201,
     "end_time": "2022-05-27T16:57:52.215308",
     "exception": false,
     "start_time": "2022-05-27T16:57:52.179107",
     "status": "completed"
    },
    "tags": []
   },
   "outputs": [
    {
     "data": {
      "text/plain": [
       "[(0, 'Auditorio de Tenerife Adán Martín'),\n",
       " (1, 'Acropolium of Carthage'),\n",
       " (2, 'Ilheu Mole'),\n",
       " (3, 'Erg Chebbi'),\n",
       " (4, 'Museum of Science and the Cosmos')]"
      ]
     },
     "execution_count": 7,
     "metadata": {},
     "output_type": "execute_result"
    }
   ],
   "source": [
    "label_map = dict(zip(df.id, df.name))\n",
    "[(k,v) for k,v in label_map.items()][:5]"
   ]
  },
  {
   "cell_type": "code",
   "execution_count": 8,
   "id": "a1e163d2",
   "metadata": {
    "execution": {
     "iopub.execute_input": "2022-05-27T16:57:52.231016Z",
     "iopub.status.busy": "2022-05-27T16:57:52.229986Z",
     "iopub.status.idle": "2022-05-27T16:57:52.241666Z",
     "shell.execute_reply": "2022-05-27T16:57:52.240651Z"
    },
    "papermill": {
     "duration": 0.022647,
     "end_time": "2022-05-27T16:57:52.244669",
     "exception": false,
     "start_time": "2022-05-27T16:57:52.222022",
     "status": "completed"
    },
    "tags": []
   },
   "outputs": [],
   "source": [
    "BASE_DIR = \"../input/landmark-images/Images\"\n",
    "test_images = os.listdir(BASE_DIR)"
   ]
  },
  {
   "cell_type": "code",
   "execution_count": 9,
   "id": "81034450",
   "metadata": {
    "execution": {
     "iopub.execute_input": "2022-05-27T16:57:52.259859Z",
     "iopub.status.busy": "2022-05-27T16:57:52.258926Z",
     "iopub.status.idle": "2022-05-27T16:57:52.338897Z",
     "shell.execute_reply": "2022-05-27T16:57:52.338090Z"
    },
    "papermill": {
     "duration": 0.091634,
     "end_time": "2022-05-27T16:57:52.342685",
     "exception": false,
     "start_time": "2022-05-27T16:57:52.251051",
     "status": "completed"
    },
    "tags": []
   },
   "outputs": [
    {
     "data": {
      "image/png": "[encoded data removed]",
      "text/plain": [
       "<PIL.Image.Image image mode=RGB size=321x321>"
      ]
     },
     "execution_count": 9,
     "metadata": {},
     "output_type": "execute_result"
    }
   ],
   "source": [
    "img =  Image.open(BASE_DIR + \"/\" + test_images[2]).resize(IMAGE_SHAPE)\n",
    "img"
   ]
  },
  {
   "cell_type": "code",
   "execution_count": 10,
   "id": "eabaab7a",
   "metadata": {
    "execution": {
     "iopub.execute_input": "2022-05-27T16:57:52.360982Z",
     "iopub.status.busy": "2022-05-27T16:57:52.360471Z",
     "iopub.status.idle": "2022-05-27T16:57:52.369501Z",
     "shell.execute_reply": "2022-05-27T16:57:52.368392Z"
    },
    "papermill": {
     "duration": 0.021058,
     "end_time": "2022-05-27T16:57:52.371799",
     "exception": false,
     "start_time": "2022-05-27T16:57:52.350741",
     "status": "completed"
    },
    "tags": []
   },
   "outputs": [
    {
     "data": {
      "text/plain": [
       "(321, 321, 3)"
      ]
     },
     "execution_count": 10,
     "metadata": {},
     "output_type": "execute_result"
    }
   ],
   "source": [
    "img = np.array(img)/255.0\n",
    "img.shape"
   ]
  },
  {
   "cell_type": "code",
   "execution_count": 11,
   "id": "f78b412a",
   "metadata": {
    "execution": {
     "iopub.execute_input": "2022-05-27T16:57:52.390557Z",
     "iopub.status.busy": "2022-05-27T16:57:52.389804Z",
     "iopub.status.idle": "2022-05-27T16:57:52.395986Z",
     "shell.execute_reply": "2022-05-27T16:57:52.395174Z"
    },
    "papermill": {
     "duration": 0.018282,
     "end_time": "2022-05-27T16:57:52.398184",
     "exception": false,
     "start_time": "2022-05-27T16:57:52.379902",
     "status": "completed"
    },
    "tags": []
   },
   "outputs": [
    {
     "data": {
      "text/plain": [
       "(1, 321, 321, 3)"
      ]
     },
     "execution_count": 11,
     "metadata": {},
     "output_type": "execute_result"
    }
   ],
   "source": [
    "img = img[np.newaxis, ...]\n",
    "img.shape"
   ]
  },
  {
   "cell_type": "code",
   "execution_count": 12,
   "id": "df300b84",
   "metadata": {
    "execution": {
     "iopub.execute_input": "2022-05-27T16:57:52.417155Z",
     "iopub.status.busy": "2022-05-27T16:57:52.416365Z",
     "iopub.status.idle": "2022-05-27T16:57:53.649435Z",
     "shell.execute_reply": "2022-05-27T16:57:53.648382Z"
    },
    "papermill": {
     "duration": 1.245769,
     "end_time": "2022-05-27T16:57:53.652233",
     "exception": false,
     "start_time": "2022-05-27T16:57:52.406464",
     "status": "completed"
    },
    "tags": []
   },
   "outputs": [],
   "source": [
    "result = classifier.predict(img)"
   ]
  },
  {
   "cell_type": "code",
   "execution_count": 13,
   "id": "b154f67e",
   "metadata": {
    "execution": {
     "iopub.execute_input": "2022-05-27T16:57:53.671423Z",
     "iopub.status.busy": "2022-05-27T16:57:53.670677Z",
     "iopub.status.idle": "2022-05-27T16:57:53.677076Z",
     "shell.execute_reply": "2022-05-27T16:57:53.676043Z"
    },
    "papermill": {
     "duration": 0.01818,
     "end_time": "2022-05-27T16:57:53.679117",
     "exception": false,
     "start_time": "2022-05-27T16:57:53.660937",
     "status": "completed"
    },
    "tags": []
   },
   "outputs": [
    {
     "data": {
      "text/plain": [
       "(1, 19293)"
      ]
     },
     "execution_count": 13,
     "metadata": {},
     "output_type": "execute_result"
    }
   ],
   "source": [
    "result.shape"
   ]
  },
  {
   "cell_type": "code",
   "execution_count": 14,
   "id": "c9ee70ff",
   "metadata": {
    "execution": {
     "iopub.execute_input": "2022-05-27T16:57:53.697897Z",
     "iopub.status.busy": "2022-05-27T16:57:53.697361Z",
     "iopub.status.idle": "2022-05-27T16:57:53.703856Z",
     "shell.execute_reply": "2022-05-27T16:57:53.703081Z"
    },
    "papermill": {
     "duration": 0.018347,
     "end_time": "2022-05-27T16:57:53.705733",
     "exception": false,
     "start_time": "2022-05-27T16:57:53.687386",
     "status": "completed"
    },
    "tags": []
   },
   "outputs": [
    {
     "data": {
      "text/plain": [
       "'Giza Necropolis'"
      ]
     },
     "execution_count": 14,
     "metadata": {},
     "output_type": "execute_result"
    }
   ],
   "source": [
    "label_map[np.argmax(result)]"
   ]
  },
  {
   "cell_type": "code",
   "execution_count": 15,
   "id": "ee775969",
   "metadata": {
    "execution": {
     "iopub.execute_input": "2022-05-27T16:57:53.725551Z",
     "iopub.status.busy": "2022-05-27T16:57:53.724622Z",
     "iopub.status.idle": "2022-05-27T16:57:53.731457Z",
     "shell.execute_reply": "2022-05-27T16:57:53.730185Z"
    },
    "papermill": {
     "duration": 0.020005,
     "end_time": "2022-05-27T16:57:53.734039",
     "exception": false,
     "start_time": "2022-05-27T16:57:53.714034",
     "status": "completed"
    },
    "tags": []
   },
   "outputs": [],
   "source": [
    "def classify_img(image):\n",
    "    img = np.array(image)/255.0\n",
    "    img = img[np.newaxis, ...]\n",
    "    prediction = classifier.predict(img)\n",
    "    return label_map[np.argmax(prediction)]"
   ]
  },
  {
   "cell_type": "code",
   "execution_count": 16,
   "id": "b60cd57b",
   "metadata": {
    "execution": {
     "iopub.execute_input": "2022-05-27T16:57:53.752673Z",
     "iopub.status.busy": "2022-05-27T16:57:53.752221Z",
     "iopub.status.idle": "2022-05-27T16:57:56.666612Z",
     "shell.execute_reply": "2022-05-27T16:57:56.665408Z"
    },
    "papermill": {
     "duration": 2.926887,
     "end_time": "2022-05-27T16:57:56.669284",
     "exception": false,
     "start_time": "2022-05-27T16:57:53.742397",
     "status": "completed"
    },
    "tags": []
   },
   "outputs": [
    {
     "name": "stderr",
     "output_type": "stream",
     "text": [
      "/opt/conda/lib/python3.7/site-packages/gradio/deprecation.py:40: UserWarning: `optional` parameter is deprecated, and it has no effect\n",
      "  warnings.warn(value)\n",
      "/opt/conda/lib/python3.7/site-packages/gradio/deprecation.py:40: UserWarning: The 'type' parameter has been deprecated. Use the Number component instead.\n",
      "  warnings.warn(value)\n",
      "/opt/conda/lib/python3.7/site-packages/gradio/deprecation.py:40: UserWarning: `capture_session` parameter is deprecated, and it has no effect\n",
      "  warnings.warn(value)\n"
     ]
    },
    {
     "name": "stdout",
     "output_type": "stream",
     "text": [
      "Running on local URL:  http://127.0.0.1:7860/\n",
      "Running on public URL: https://23784.gradio.app\n",
      "\n",
      "This share link expires in 72 hours. For free permanent hosting, check out Spaces (https://huggingface.co/spaces)\n"
     ]
    },
    {
     "data": {
      "text/html": [
       "\n",
       "        <iframe\n",
       "            width=\"900\"\n",
       "            height=\"500\"\n",
       "            src=\"https://23784.gradio.app\"\n",
       "            frameborder=\"0\"\n",
       "            allowfullscreen\n",
       "            \n",
       "        ></iframe>\n",
       "        "
      ],
      "text/plain": [
       "<IPython.lib.display.IFrame at 0x7f1bc1001e50>"
      ]
     },
     "metadata": {},
     "output_type": "display_data"
    },
    {
     "data": {
      "text/plain": [
       "(<gradio.routes.App at 0x7f1bc112a610>,\n",
       " 'http://127.0.0.1:7860/',\n",
       " 'https://23784.gradio.app')"
      ]
     },
     "execution_count": 16,
     "metadata": {},
     "output_type": "execute_result"
    }
   ],
   "source": [
    "image = gr.inputs.Image(shape=(321, 321))\n",
    "label = gr.outputs.Label(num_top_classes=1)\n",
    "\n",
    "gr.Interface(\n",
    "    classify_img,\n",
    "    image,\n",
    "    label,\n",
    "    capture_session=True\n",
    ").launch(share=True)"
   ]
  },
  {
   "cell_type": "code",
   "execution_count": null,
   "id": "8fcf9a0a",
   "metadata": {
    "papermill": {
     "duration": 0.008474,
     "end_time": "2022-05-27T16:57:56.686987",
     "exception": false,
     "start_time": "2022-05-27T16:57:56.678513",
     "status": "completed"
    },
    "tags": []
   },
   "outputs": [],
   "source": []
  }
 ],
 "metadata": {
  "kernelspec": {
   "display_name": "Python 3",
   "language": "python",
   "name": "python3"
  },
  "language_info": {
   "codemirror_mode": {
    "name": "ipython",
    "version": 3
   },
   "file_extension": ".py",
   "mimetype": "text/x-python",
   "name": "python",
   "nbconvert_exporter": "python",
   "pygments_lexer": "ipython3",
   "version": "3.7.12"
  },
  "papermill": {
   "default_parameters": {},
   "duration": 54.916585,
   "end_time": "2022-05-27T16:57:59.559545",
   "environment_variables": {},
   "exception": null,
   "input_path": "__notebook__.ipynb",
   "output_path": "__notebook__.ipynb",
   "parameters": {},
   "start_time": "2022-05-27T16:57:04.642960",
   "version": "2.3.4"
  }
 },
 "nbformat": 4,
 "nbformat_minor": 5
}
